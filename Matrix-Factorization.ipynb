{
 "cells": [
  {
   "cell_type": "markdown",
   "metadata": {},
   "source": [
    "# Understanding matrix factorization for recommendation"
   ]
  },
  {
   "cell_type": "code",
   "execution_count": 1,
   "metadata": {},
   "outputs": [],
   "source": [
    "import numpy as np\n",
    "import pandas as pd\n",
    "import math"
   ]
  },
  {
   "cell_type": "markdown",
   "metadata": {},
   "source": [
    "We are using the **Movielens 100K Dataset**"
   ]
  },
  {
   "cell_type": "code",
   "execution_count": 2,
   "metadata": {},
   "outputs": [],
   "source": [
    "column_names = ['User_Ids', 'Movie_Ids', 'Rating', 'Tag']\n",
    "df = pd.read_csv(\"movielens100k.ratings\", sep='\\s+', names=column_names).drop('Tag', axis=1)\n",
    "df_Ratings = df.pivot(index='User_Ids', columns='Movie_Ids', values='Rating')"
   ]
  },
  {
   "cell_type": "code",
   "execution_count": 3,
   "metadata": {
    "scrolled": true
   },
   "outputs": [
    {
     "data": {
      "text/html": [
       "<div>\n",
       "<style scoped>\n",
       "    .dataframe tbody tr th:only-of-type {\n",
       "        vertical-align: middle;\n",
       "    }\n",
       "\n",
       "    .dataframe tbody tr th {\n",
       "        vertical-align: top;\n",
       "    }\n",
       "\n",
       "    .dataframe thead th {\n",
       "        text-align: right;\n",
       "    }\n",
       "</style>\n",
       "<table border=\"1\" class=\"dataframe\">\n",
       "  <thead>\n",
       "    <tr style=\"text-align: right;\">\n",
       "      <th>Movie_Ids</th>\n",
       "      <th>1</th>\n",
       "      <th>2</th>\n",
       "      <th>3</th>\n",
       "      <th>4</th>\n",
       "      <th>5</th>\n",
       "      <th>6</th>\n",
       "      <th>7</th>\n",
       "      <th>8</th>\n",
       "      <th>9</th>\n",
       "      <th>10</th>\n",
       "      <th>...</th>\n",
       "      <th>1673</th>\n",
       "      <th>1674</th>\n",
       "      <th>1675</th>\n",
       "      <th>1676</th>\n",
       "      <th>1677</th>\n",
       "      <th>1678</th>\n",
       "      <th>1679</th>\n",
       "      <th>1680</th>\n",
       "      <th>1681</th>\n",
       "      <th>1682</th>\n",
       "    </tr>\n",
       "    <tr>\n",
       "      <th>User_Ids</th>\n",
       "      <th></th>\n",
       "      <th></th>\n",
       "      <th></th>\n",
       "      <th></th>\n",
       "      <th></th>\n",
       "      <th></th>\n",
       "      <th></th>\n",
       "      <th></th>\n",
       "      <th></th>\n",
       "      <th></th>\n",
       "      <th></th>\n",
       "      <th></th>\n",
       "      <th></th>\n",
       "      <th></th>\n",
       "      <th></th>\n",
       "      <th></th>\n",
       "      <th></th>\n",
       "      <th></th>\n",
       "      <th></th>\n",
       "      <th></th>\n",
       "      <th></th>\n",
       "    </tr>\n",
       "  </thead>\n",
       "  <tbody>\n",
       "    <tr>\n",
       "      <th>1</th>\n",
       "      <td>5.0</td>\n",
       "      <td>3.0</td>\n",
       "      <td>4.0</td>\n",
       "      <td>3.0</td>\n",
       "      <td>3.0</td>\n",
       "      <td>5.0</td>\n",
       "      <td>4.0</td>\n",
       "      <td>1.0</td>\n",
       "      <td>5.0</td>\n",
       "      <td>3.0</td>\n",
       "      <td>...</td>\n",
       "      <td>NaN</td>\n",
       "      <td>NaN</td>\n",
       "      <td>NaN</td>\n",
       "      <td>NaN</td>\n",
       "      <td>NaN</td>\n",
       "      <td>NaN</td>\n",
       "      <td>NaN</td>\n",
       "      <td>NaN</td>\n",
       "      <td>NaN</td>\n",
       "      <td>NaN</td>\n",
       "    </tr>\n",
       "    <tr>\n",
       "      <th>2</th>\n",
       "      <td>4.0</td>\n",
       "      <td>NaN</td>\n",
       "      <td>NaN</td>\n",
       "      <td>NaN</td>\n",
       "      <td>NaN</td>\n",
       "      <td>NaN</td>\n",
       "      <td>NaN</td>\n",
       "      <td>NaN</td>\n",
       "      <td>NaN</td>\n",
       "      <td>2.0</td>\n",
       "      <td>...</td>\n",
       "      <td>NaN</td>\n",
       "      <td>NaN</td>\n",
       "      <td>NaN</td>\n",
       "      <td>NaN</td>\n",
       "      <td>NaN</td>\n",
       "      <td>NaN</td>\n",
       "      <td>NaN</td>\n",
       "      <td>NaN</td>\n",
       "      <td>NaN</td>\n",
       "      <td>NaN</td>\n",
       "    </tr>\n",
       "    <tr>\n",
       "      <th>3</th>\n",
       "      <td>NaN</td>\n",
       "      <td>NaN</td>\n",
       "      <td>NaN</td>\n",
       "      <td>NaN</td>\n",
       "      <td>NaN</td>\n",
       "      <td>NaN</td>\n",
       "      <td>NaN</td>\n",
       "      <td>NaN</td>\n",
       "      <td>NaN</td>\n",
       "      <td>NaN</td>\n",
       "      <td>...</td>\n",
       "      <td>NaN</td>\n",
       "      <td>NaN</td>\n",
       "      <td>NaN</td>\n",
       "      <td>NaN</td>\n",
       "      <td>NaN</td>\n",
       "      <td>NaN</td>\n",
       "      <td>NaN</td>\n",
       "      <td>NaN</td>\n",
       "      <td>NaN</td>\n",
       "      <td>NaN</td>\n",
       "    </tr>\n",
       "    <tr>\n",
       "      <th>4</th>\n",
       "      <td>NaN</td>\n",
       "      <td>NaN</td>\n",
       "      <td>NaN</td>\n",
       "      <td>NaN</td>\n",
       "      <td>NaN</td>\n",
       "      <td>NaN</td>\n",
       "      <td>NaN</td>\n",
       "      <td>NaN</td>\n",
       "      <td>NaN</td>\n",
       "      <td>NaN</td>\n",
       "      <td>...</td>\n",
       "      <td>NaN</td>\n",
       "      <td>NaN</td>\n",
       "      <td>NaN</td>\n",
       "      <td>NaN</td>\n",
       "      <td>NaN</td>\n",
       "      <td>NaN</td>\n",
       "      <td>NaN</td>\n",
       "      <td>NaN</td>\n",
       "      <td>NaN</td>\n",
       "      <td>NaN</td>\n",
       "    </tr>\n",
       "    <tr>\n",
       "      <th>5</th>\n",
       "      <td>4.0</td>\n",
       "      <td>3.0</td>\n",
       "      <td>NaN</td>\n",
       "      <td>NaN</td>\n",
       "      <td>NaN</td>\n",
       "      <td>NaN</td>\n",
       "      <td>NaN</td>\n",
       "      <td>NaN</td>\n",
       "      <td>NaN</td>\n",
       "      <td>NaN</td>\n",
       "      <td>...</td>\n",
       "      <td>NaN</td>\n",
       "      <td>NaN</td>\n",
       "      <td>NaN</td>\n",
       "      <td>NaN</td>\n",
       "      <td>NaN</td>\n",
       "      <td>NaN</td>\n",
       "      <td>NaN</td>\n",
       "      <td>NaN</td>\n",
       "      <td>NaN</td>\n",
       "      <td>NaN</td>\n",
       "    </tr>\n",
       "  </tbody>\n",
       "</table>\n",
       "<p>5 rows × 1682 columns</p>\n",
       "</div>"
      ],
      "text/plain": [
       "Movie_Ids  1     2     3     4     5     6     7     8     9     10    ...   \\\n",
       "User_Ids                                                               ...    \n",
       "1           5.0   3.0   4.0   3.0   3.0   5.0   4.0   1.0   5.0   3.0  ...    \n",
       "2           4.0   NaN   NaN   NaN   NaN   NaN   NaN   NaN   NaN   2.0  ...    \n",
       "3           NaN   NaN   NaN   NaN   NaN   NaN   NaN   NaN   NaN   NaN  ...    \n",
       "4           NaN   NaN   NaN   NaN   NaN   NaN   NaN   NaN   NaN   NaN  ...    \n",
       "5           4.0   3.0   NaN   NaN   NaN   NaN   NaN   NaN   NaN   NaN  ...    \n",
       "\n",
       "Movie_Ids  1673  1674  1675  1676  1677  1678  1679  1680  1681  1682  \n",
       "User_Ids                                                               \n",
       "1           NaN   NaN   NaN   NaN   NaN   NaN   NaN   NaN   NaN   NaN  \n",
       "2           NaN   NaN   NaN   NaN   NaN   NaN   NaN   NaN   NaN   NaN  \n",
       "3           NaN   NaN   NaN   NaN   NaN   NaN   NaN   NaN   NaN   NaN  \n",
       "4           NaN   NaN   NaN   NaN   NaN   NaN   NaN   NaN   NaN   NaN  \n",
       "5           NaN   NaN   NaN   NaN   NaN   NaN   NaN   NaN   NaN   NaN  \n",
       "\n",
       "[5 rows x 1682 columns]"
      ]
     },
     "execution_count": 3,
     "metadata": {},
     "output_type": "execute_result"
    }
   ],
   "source": [
    "df_Ratings.head()"
   ]
  },
  {
   "cell_type": "code",
   "execution_count": 4,
   "metadata": {},
   "outputs": [
    {
     "data": {
      "text/plain": [
       "(943, 1682)"
      ]
     },
     "execution_count": 4,
     "metadata": {},
     "output_type": "execute_result"
    }
   ],
   "source": [
    "df_Ratings.shape"
   ]
  },
  {
   "cell_type": "code",
   "execution_count": 5,
   "metadata": {},
   "outputs": [
    {
     "data": {
      "text/plain": [
       "93.7"
      ]
     },
     "execution_count": 5,
     "metadata": {},
     "output_type": "execute_result"
    }
   ],
   "source": [
    "round(df_Ratings.isnull().sum().sum() / df_Ratings.size * 100, 1)"
   ]
  },
  {
   "cell_type": "markdown",
   "metadata": {},
   "source": [
    "So we have a matrix with 943 users (rows) and 1682 items (columns).  \n",
    "It's a sparse matrix: 93.7% of the values are missing. Our goal is to predict these missing values, using the following formula:\n",
    "$$\n",
    "\\widehat{r}_{ui} = \\mu + b_i + b_u + {q_i}^T \\cdot p_u\n",
    "$$\n",
    "where $\\mu$ is the overall average rating,  \n",
    "the parameters $b_u$ and $b_i$ indicate the observed deviations of user *u* and item *i*, respectively, from the average  \n",
    "and the product of *q* and *p* is the user-item interaction."
   ]
  },
  {
   "cell_type": "code",
   "execution_count": 6,
   "metadata": {},
   "outputs": [],
   "source": [
    "users = list(df_Ratings.index)\n",
    "items = list(df_Ratings.columns)\n",
    "ratings = [tuple(x) for x in df.values]"
   ]
  },
  {
   "cell_type": "code",
   "execution_count": 7,
   "metadata": {},
   "outputs": [
    {
     "data": {
      "text/plain": [
       "[(196, 242, 3), (186, 302, 3), (22, 377, 1), (244, 51, 2), (166, 346, 1)]"
      ]
     },
     "execution_count": 7,
     "metadata": {},
     "output_type": "execute_result"
    }
   ],
   "source": [
    "ratings[0:5]"
   ]
  },
  {
   "cell_type": "code",
   "execution_count": 8,
   "metadata": {},
   "outputs": [
    {
     "data": {
      "text/plain": [
       "3.52986"
      ]
     },
     "execution_count": 8,
     "metadata": {},
     "output_type": "execute_result"
    }
   ],
   "source": [
    "mu = np.nanmean(df_Ratings.values) # overall average rating  \n",
    "mu"
   ]
  },
  {
   "cell_type": "markdown",
   "metadata": {},
   "source": [
    "We will use a small fraction of the ratings for our test set:"
   ]
  },
  {
   "cell_type": "code",
   "execution_count": 9,
   "metadata": {},
   "outputs": [],
   "source": [
    "from sklearn.model_selection import train_test_split\n",
    "train, test = train_test_split(ratings, test_size=0.001, random_state=42)"
   ]
  },
  {
   "cell_type": "code",
   "execution_count": 10,
   "metadata": {},
   "outputs": [
    {
     "data": {
      "text/plain": [
       "100"
      ]
     },
     "execution_count": 10,
     "metadata": {},
     "output_type": "execute_result"
    }
   ],
   "source": [
    "len(test)"
   ]
  },
  {
   "cell_type": "markdown",
   "metadata": {},
   "source": [
    "Defining the parameters for the matrix factorization:"
   ]
  },
  {
   "cell_type": "code",
   "execution_count": 11,
   "metadata": {},
   "outputs": [],
   "source": [
    "number_of_factors = 7   # latent factors\n",
    "learning_rate = 0.001\n",
    "regularization = 0.1\n",
    "number_of_iterations = 50"
   ]
  },
  {
   "cell_type": "markdown",
   "metadata": {},
   "source": [
    "Initializing matrix p and q and the bias vectors:"
   ]
  },
  {
   "cell_type": "code",
   "execution_count": 16,
   "metadata": {},
   "outputs": [],
   "source": [
    "np.random.seed(42)\n",
    "\n",
    "number_of_users = len(users)\n",
    "p = np.random.rand(number_of_users, number_of_factors)\n",
    "b_u = np.random.rand(number_of_users)\n",
    "\n",
    "number_of_items = len(items)\n",
    "q = np.random.rand(number_of_items, number_of_factors)\n",
    "b_i = np.random.rand(number_of_items)"
   ]
  },
  {
   "cell_type": "markdown",
   "metadata": {},
   "source": [
    "Training the model:"
   ]
  },
  {
   "cell_type": "code",
   "execution_count": 17,
   "metadata": {},
   "outputs": [
    {
     "name": "stdout",
     "output_type": "stream",
     "text": [
      "Iteration 1 of 50\n",
      "MAE_train: 2.6954453122888693 MAE_test: 2.652338640511272\n",
      "Iteration 2 of 50\n",
      "MAE_train: 1.192004431583912 MAE_test: 1.1739552854817805\n",
      "Iteration 3 of 50\n",
      "MAE_train: 1.0227089459307057 MAE_test: 0.9896755233335681\n",
      "Iteration 4 of 50\n",
      "MAE_train: 0.949936187338763 MAE_test: 0.9414894517763258\n",
      "Iteration 5 of 50\n",
      "MAE_train: 0.9117028298089865 MAE_test: 0.9042131952584029\n",
      "Iteration 6 of 50\n",
      "MAE_train: 0.8802228290720787 MAE_test: 0.8850283375386528\n",
      "Iteration 7 of 50\n",
      "MAE_train: 0.8612326663397278 MAE_test: 0.8688921143533774\n",
      "Iteration 8 of 50\n",
      "MAE_train: 0.8433070345763991 MAE_test: 0.8581480697711164\n",
      "Iteration 9 of 50\n",
      "MAE_train: 0.8305394268057739 MAE_test: 0.8477071270882593\n",
      "Iteration 10 of 50\n",
      "MAE_train: 0.8188958736523382 MAE_test: 0.8381680624363311\n",
      "Iteration 11 of 50\n",
      "MAE_train: 0.8095355907102766 MAE_test: 0.8292334678105887\n",
      "Iteration 12 of 50\n",
      "MAE_train: 0.8012040342226406 MAE_test: 0.8209178086278951\n",
      "Iteration 13 of 50\n",
      "MAE_train: 0.7940603237840129 MAE_test: 0.8131494309077432\n",
      "Iteration 14 of 50\n",
      "MAE_train: 0.787708135586082 MAE_test: 0.806224621018722\n",
      "Iteration 15 of 50\n",
      "MAE_train: 0.7821250975151206 MAE_test: 0.7998268214582683\n",
      "Iteration 16 of 50\n",
      "MAE_train: 0.7771416298080063 MAE_test: 0.7941180454520054\n",
      "Iteration 17 of 50\n",
      "MAE_train: 0.7726827115092693 MAE_test: 0.7888909487459139\n",
      "Iteration 18 of 50\n",
      "MAE_train: 0.7686648049774425 MAE_test: 0.7844214658551443\n",
      "Iteration 19 of 50\n",
      "MAE_train: 0.7650292727686605 MAE_test: 0.7801876757978111\n",
      "Iteration 20 of 50\n",
      "MAE_train: 0.7617253783798488 MAE_test: 0.7769739740190965\n",
      "Iteration 21 of 50\n",
      "MAE_train: 0.7587140278030677 MAE_test: 0.7749052170276286\n",
      "Iteration 22 of 50\n",
      "MAE_train: 0.7559687173402725 MAE_test: 0.7732004794342251\n",
      "Iteration 23 of 50\n",
      "MAE_train: 0.7534531046296638 MAE_test: 0.7715786879645379\n",
      "Iteration 24 of 50\n",
      "MAE_train: 0.7511454901548186 MAE_test: 0.7700348226563023\n",
      "Iteration 25 of 50\n",
      "MAE_train: 0.7490205160661186 MAE_test: 0.7685642551580858\n",
      "Iteration 26 of 50\n",
      "MAE_train: 0.7470605169634611 MAE_test: 0.7671626966973646\n",
      "Iteration 27 of 50\n",
      "MAE_train: 0.7452414239114077 MAE_test: 0.7658261506717569\n",
      "Iteration 28 of 50\n",
      "MAE_train: 0.7435528456122237 MAE_test: 0.7645508786233133\n",
      "Iteration 29 of 50\n",
      "MAE_train: 0.7419802583217034 MAE_test: 0.7633333723164314\n",
      "Iteration 30 of 50\n",
      "MAE_train: 0.7405129560220973 MAE_test: 0.7621703320889671\n",
      "Iteration 31 of 50\n",
      "MAE_train: 0.7391410223851091 MAE_test: 0.7610586492421804\n",
      "Iteration 32 of 50\n",
      "MAE_train: 0.7378595670017007 MAE_test: 0.759995391718215\n",
      "Iteration 33 of 50\n",
      "MAE_train: 0.7366577688093069 MAE_test: 0.7589777921185472\n",
      "Iteration 34 of 50\n",
      "MAE_train: 0.7355253902501622 MAE_test: 0.7580032375019202\n",
      "Iteration 35 of 50\n",
      "MAE_train: 0.7344541003624244 MAE_test: 0.7570692604858651\n",
      "Iteration 36 of 50\n",
      "MAE_train: 0.7334421415795956 MAE_test: 0.7561735313230442\n",
      "Iteration 37 of 50\n",
      "MAE_train: 0.7324849490584268 MAE_test: 0.7553138507038893\n",
      "Iteration 38 of 50\n",
      "MAE_train: 0.731579080890664 MAE_test: 0.7544881431094423\n",
      "Iteration 39 of 50\n",
      "MAE_train: 0.7307209354676181 MAE_test: 0.7536944505879728\n",
      "Iteration 40 of 50\n",
      "MAE_train: 0.7299065260761507 MAE_test: 0.7529309268673903\n",
      "Iteration 41 of 50\n",
      "MAE_train: 0.7291314782365093 MAE_test: 0.7524130280714576\n",
      "Iteration 42 of 50\n",
      "MAE_train: 0.7283932700704964 MAE_test: 0.7520103947284348\n",
      "Iteration 43 of 50\n",
      "MAE_train: 0.7276913250808127 MAE_test: 0.7516252408232853\n",
      "Iteration 44 of 50\n",
      "MAE_train: 0.727023612120939 MAE_test: 0.7512564913125442\n",
      "Iteration 45 of 50\n",
      "MAE_train: 0.7263873530716046 MAE_test: 0.7509031289769561\n",
      "Iteration 46 of 50\n",
      "MAE_train: 0.7257790005475765 MAE_test: 0.7505641923757338\n",
      "Iteration 47 of 50\n",
      "MAE_train: 0.7251953780415681 MAE_test: 0.7502387736998167\n",
      "Iteration 48 of 50\n",
      "MAE_train: 0.7246346277357645 MAE_test: 0.749926016558333\n",
      "Iteration 49 of 50\n",
      "MAE_train: 0.7240975344988717 MAE_test: 0.7497113754261049\n",
      "Iteration 50 of 50\n",
      "MAE_train: 0.7235810357736119 MAE_test: 0.7496903004862778\n"
     ]
    }
   ],
   "source": [
    "MAE_train_list = []   # Mean Absolute Error\n",
    "MAE_test_list = []\n",
    "\n",
    "for it in range(number_of_iterations):\n",
    "    print(\"Iteration \" + str(it+1) + \" of \" + str(number_of_iterations))\n",
    "    \n",
    "    updated_p = np.array(p)\n",
    "    updated_b_u = np.array(b_u)\n",
    "    updated_q = np.array(q)\n",
    "    updated_b_i = np.array(b_i)\n",
    "    MAE_train = 0\n",
    "    MAE_test = 0\n",
    "    \n",
    "    for (user, item, rating) in train:\n",
    "        u = users.index(user)\n",
    "        i = items.index(item) \n",
    "        \n",
    "        prediction = mu + b_i[i] + b_u[u] + np.dot(p[u,:], q[i,:].transpose())\n",
    "                                \n",
    "        error = rating - prediction\n",
    "        MAE_train += math.fabs(error)\n",
    "        \n",
    "        updated_p[u,:] += learning_rate * (error * q[i,:] - regularization * p[u,:])\n",
    "        updated_b_u[u] += learning_rate * (error - regularization * b_u[u])\n",
    "        updated_q[i,:] += learning_rate * (error * p[u,:] - regularization * q[i,:])\n",
    "        updated_b_i[i] += learning_rate * (error - regularization * b_i[i])\n",
    "\n",
    "    for (user, item, rating) in test:\n",
    "        u = users.index(user)\n",
    "        i = items.index(item) \n",
    "        \n",
    "        prediction = mu + b_i[i] + b_u[u] + np.dot(p[u,:], q[i,:].transpose())\n",
    "                                \n",
    "        error = rating - prediction\n",
    "        MAE_test += math.fabs(error)\n",
    "        \n",
    "    p = updated_p\n",
    "    b_u = updated_b_u\n",
    "    q = updated_q\n",
    "    b_i = updated_b_i\n",
    "\n",
    "    MAE_train = MAE_train / len(train)\n",
    "    MAE_train_list.append(MAE_train)\n",
    "    MAE_test = MAE_test / len(test)\n",
    "    MAE_test_list.append(MAE_test)\n",
    "    \n",
    "    print(\"MAE_train:\", MAE_train, \"MAE_test:\", MAE_test)"
   ]
  },
  {
   "cell_type": "markdown",
   "metadata": {},
   "source": [
    "Plotting the learning curve:"
   ]
  },
  {
   "cell_type": "code",
   "execution_count": 18,
   "metadata": {},
   "outputs": [
    {
     "data": {
      "text/plain": [
       "<matplotlib.legend.Legend at 0x1a19a85828>"
      ]
     },
     "execution_count": 18,
     "metadata": {},
     "output_type": "execute_result"
    },
    {
     "data": {
      "image/png": "[encoded data removed]",
      "text/plain": [
       "<matplotlib.figure.Figure at 0x1a19a358d0>"
      ]
     },
     "metadata": {},
     "output_type": "display_data"
    }
   ],
   "source": [
    "import matplotlib.pyplot as plt\n",
    "\n",
    "xx1 = np.linspace(1, number_of_iterations, number_of_iterations)\n",
    "plt.plot(xx1, MAE_train_list, label = 'Train', color='b')\n",
    "plt.plot(xx1, MAE_test_list, label = 'Test', color='r')\n",
    "plt.ylim(0, 2)\n",
    "plt.xlabel(\"Iteration\")\n",
    "plt.ylabel(\"MAE\")\n",
    "plt.title(\"lambda = 0.1\")\n",
    "plt.legend(loc=2)"
   ]
  },
  {
   "cell_type": "markdown",
   "metadata": {},
   "source": [
    "Saving the learned parameters using numpy:"
   ]
  },
  {
   "cell_type": "code",
   "execution_count": 20,
   "metadata": {},
   "outputs": [],
   "source": [
    "model_1 = {'p': p, 'b_u': b_u, 'q': q, 'b_i': b_i, 'MAE_train': MAE_train_list, 'MAE_test': MAE_test_list}\n",
    "np.save('model_1.npy', model_1)"
   ]
  },
  {
   "cell_type": "markdown",
   "metadata": {},
   "source": [
    "Choosing our active user:"
   ]
  },
  {
   "cell_type": "code",
   "execution_count": 21,
   "metadata": {},
   "outputs": [],
   "source": [
    "active_user = 1"
   ]
  },
  {
   "cell_type": "markdown",
   "metadata": {},
   "source": [
    "Looking at the items this user has rated:"
   ]
  },
  {
   "cell_type": "code",
   "execution_count": 22,
   "metadata": {},
   "outputs": [],
   "source": [
    "items_rated = [item for (user, item, rating) in ratings if user == active_user]"
   ]
  },
  {
   "cell_type": "markdown",
   "metadata": {},
   "source": [
    "Calculating the predictions for all the items this user hasn't rated:"
   ]
  },
  {
   "cell_type": "code",
   "execution_count": 23,
   "metadata": {},
   "outputs": [],
   "source": [
    "predictions = {}\n",
    "\n",
    "u = users.index(active_user)\n",
    "\n",
    "for i in range(number_of_items):\n",
    "    item = items[i]\n",
    "    \n",
    "    if item not in items_rated:\n",
    "        prediction = mu + b_i[i] + b_u[u] + np.dot(p[u,:], q[i,:].transpose())\n",
    "        predictions[item] = prediction"
   ]
  },
  {
   "cell_type": "markdown",
   "metadata": {},
   "source": [
    "Now we look for the 10 highest reccomendations for user 1:"
   ]
  },
  {
   "cell_type": "code",
   "execution_count": 24,
   "metadata": {},
   "outputs": [],
   "source": [
    "n = 10"
   ]
  },
  {
   "cell_type": "code",
   "execution_count": 25,
   "metadata": {},
   "outputs": [],
   "source": [
    "recommendations = {}\n",
    "\n",
    "for _ in range(n):\n",
    "    max_prediction = 0\n",
    "    best_item = None\n",
    "    \n",
    "    for item, prediction in predictions.items():\n",
    "        if prediction > max_prediction and item not in recommendations:\n",
    "            max_prediction = prediction\n",
    "            best_item = item\n",
    "    \n",
    "    recommendations[best_item] = np.round(max_prediction, 2)"
   ]
  },
  {
   "cell_type": "code",
   "execution_count": 26,
   "metadata": {},
   "outputs": [
    {
     "data": {
      "text/html": [
       "<div>\n",
       "<style scoped>\n",
       "    .dataframe tbody tr th:only-of-type {\n",
       "        vertical-align: middle;\n",
       "    }\n",
       "\n",
       "    .dataframe tbody tr th {\n",
       "        vertical-align: top;\n",
       "    }\n",
       "\n",
       "    .dataframe thead th {\n",
       "        text-align: right;\n",
       "    }\n",
       "</style>\n",
       "<table border=\"1\" class=\"dataframe\">\n",
       "  <thead>\n",
       "    <tr style=\"text-align: right;\">\n",
       "      <th></th>\n",
       "      <th>Movie</th>\n",
       "      <th>Prediction</th>\n",
       "    </tr>\n",
       "  </thead>\n",
       "  <tbody>\n",
       "    <tr>\n",
       "      <th>0</th>\n",
       "      <td>318</td>\n",
       "      <td>4.47</td>\n",
       "    </tr>\n",
       "    <tr>\n",
       "      <th>1</th>\n",
       "      <td>483</td>\n",
       "      <td>4.44</td>\n",
       "    </tr>\n",
       "    <tr>\n",
       "      <th>2</th>\n",
       "      <td>408</td>\n",
       "      <td>4.35</td>\n",
       "    </tr>\n",
       "    <tr>\n",
       "      <th>3</th>\n",
       "      <td>603</td>\n",
       "      <td>4.33</td>\n",
       "    </tr>\n",
       "    <tr>\n",
       "      <th>4</th>\n",
       "      <td>1458</td>\n",
       "      <td>4.28</td>\n",
       "    </tr>\n",
       "    <tr>\n",
       "      <th>5</th>\n",
       "      <td>1546</td>\n",
       "      <td>4.28</td>\n",
       "    </tr>\n",
       "    <tr>\n",
       "      <th>6</th>\n",
       "      <td>313</td>\n",
       "      <td>4.27</td>\n",
       "    </tr>\n",
       "    <tr>\n",
       "      <th>7</th>\n",
       "      <td>1638</td>\n",
       "      <td>4.27</td>\n",
       "    </tr>\n",
       "    <tr>\n",
       "      <th>8</th>\n",
       "      <td>357</td>\n",
       "      <td>4.26</td>\n",
       "    </tr>\n",
       "    <tr>\n",
       "      <th>9</th>\n",
       "      <td>1645</td>\n",
       "      <td>4.26</td>\n",
       "    </tr>\n",
       "  </tbody>\n",
       "</table>\n",
       "</div>"
      ],
      "text/plain": [
       "   Movie  Prediction\n",
       "0    318        4.47\n",
       "1    483        4.44\n",
       "2    408        4.35\n",
       "3    603        4.33\n",
       "4   1458        4.28\n",
       "5   1546        4.28\n",
       "6    313        4.27\n",
       "7   1638        4.27\n",
       "8    357        4.26\n",
       "9   1645        4.26"
      ]
     },
     "execution_count": 26,
     "metadata": {},
     "output_type": "execute_result"
    }
   ],
   "source": [
    "pd.DataFrame(list(recommendations.items()), columns=['Movie', 'Prediction'])"
   ]
  }
 ],
 "metadata": {
  "kernelspec": {
   "display_name": "Python 3",
   "language": "python",
   "name": "python3"
  },
  "language_info": {
   "codemirror_mode": {
    "name": "ipython",
    "version": 3
   },
   "file_extension": ".py",
   "mimetype": "text/x-python",
   "name": "python",
   "nbconvert_exporter": "python",
   "pygments_lexer": "ipython3",
   "version": "3.6.4"
  }
 },
 "nbformat": 4,
 "nbformat_minor": 2
}
